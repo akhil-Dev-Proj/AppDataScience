{
 "cells": [
  {
   "cell_type": "code",
   "execution_count": 2,
   "metadata": {
    "nbpresent": {
     "id": "7b1edb37-5628-4e65-9416-6b818990dfba"
    }
   },
   "outputs": [
    {
     "name": "stdout",
     "output_type": "stream",
     "text": [
      "Populating the interactive namespace from numpy and matplotlib\n"
     ]
    }
   ],
   "source": [
    "import numpy as np   # basic numeric module in python, for array and matrix computation\n",
    "import pandas as pd  # advanced numeric module, excels in data frame analysis\n",
    "import matplotlib.pyplot as plt  # for data visualization\n",
    "%pylab inline\n",
    "import statsmodels.formula.api as smf    # for OLS regression"
   ]
  },
  {
   "cell_type": "markdown",
   "metadata": {
    "nbpresent": {
     "id": "d08efdb5-28cf-47d7-8ca4-3aa34652eed3"
    }
   },
   "source": [
    "## Example. Income vs Education in NYC zip code areas\n",
    "\n",
    "Model average income per capita against percentages of individuals of different education level within the area\n",
    "\n",
    "### Memo:\n",
    "* **IncomePerCapita**----measured in USD\n",
    "* **PopOver25** et al----population number under each category, e.g.\n",
    "    * total population over 25 years old\n",
    "    * holding a Bachelor's degree\n",
    "    * graduating from professional school, etc."
   ]
  },
  {
   "cell_type": "code",
   "execution_count": 3,
   "metadata": {},
   "outputs": [
    {
     "data": {
      "text/html": [
       "<div>\n",
       "<style scoped>\n",
       "    .dataframe tbody tr th:only-of-type {\n",
       "        vertical-align: middle;\n",
       "    }\n",
       "\n",
       "    .dataframe tbody tr th {\n",
       "        vertical-align: top;\n",
       "    }\n",
       "\n",
       "    .dataframe thead th {\n",
       "        text-align: right;\n",
       "    }\n",
       "</style>\n",
       "<table border=\"1\" class=\"dataframe\">\n",
       "  <thead>\n",
       "    <tr style=\"text-align: right;\">\n",
       "      <th></th>\n",
       "      <th>Zipcode</th>\n",
       "      <th>IncomePerCapita</th>\n",
       "      <th>PopOver25</th>\n",
       "      <th>LessThanHS</th>\n",
       "      <th>HighSchool</th>\n",
       "      <th>SomeCollege</th>\n",
       "      <th>Bachelor</th>\n",
       "      <th>Master</th>\n",
       "      <th>Doctorate</th>\n",
       "      <th>ProfSchool</th>\n",
       "    </tr>\n",
       "  </thead>\n",
       "  <tbody>\n",
       "    <tr>\n",
       "      <th>0</th>\n",
       "      <td>10001</td>\n",
       "      <td>77512.0</td>\n",
       "      <td>16328</td>\n",
       "      <td>1389</td>\n",
       "      <td>1665</td>\n",
       "      <td>2075</td>\n",
       "      <td>6061</td>\n",
       "      <td>3412</td>\n",
       "      <td>519</td>\n",
       "      <td>1207</td>\n",
       "    </tr>\n",
       "    <tr>\n",
       "      <th>1</th>\n",
       "      <td>10002</td>\n",
       "      <td>26905.0</td>\n",
       "      <td>60932</td>\n",
       "      <td>21170</td>\n",
       "      <td>12718</td>\n",
       "      <td>8532</td>\n",
       "      <td>12721</td>\n",
       "      <td>4001</td>\n",
       "      <td>641</td>\n",
       "      <td>1149</td>\n",
       "    </tr>\n",
       "    <tr>\n",
       "      <th>2</th>\n",
       "      <td>10003</td>\n",
       "      <td>79088.0</td>\n",
       "      <td>41182</td>\n",
       "      <td>1499</td>\n",
       "      <td>2810</td>\n",
       "      <td>4516</td>\n",
       "      <td>17958</td>\n",
       "      <td>9094</td>\n",
       "      <td>1626</td>\n",
       "      <td>3679</td>\n",
       "    </tr>\n",
       "    <tr>\n",
       "      <th>3</th>\n",
       "      <td>10004</td>\n",
       "      <td>98020.0</td>\n",
       "      <td>2279</td>\n",
       "      <td>29</td>\n",
       "      <td>87</td>\n",
       "      <td>305</td>\n",
       "      <td>984</td>\n",
       "      <td>550</td>\n",
       "      <td>86</td>\n",
       "      <td>238</td>\n",
       "    </tr>\n",
       "    <tr>\n",
       "      <th>4</th>\n",
       "      <td>10005</td>\n",
       "      <td>99633.0</td>\n",
       "      <td>5954</td>\n",
       "      <td>133</td>\n",
       "      <td>103</td>\n",
       "      <td>454</td>\n",
       "      <td>2745</td>\n",
       "      <td>1637</td>\n",
       "      <td>219</td>\n",
       "      <td>663</td>\n",
       "    </tr>\n",
       "  </tbody>\n",
       "</table>\n",
       "</div>"
      ],
      "text/plain": [
       "   Zipcode  IncomePerCapita  PopOver25  LessThanHS  HighSchool  SomeCollege  \\\n",
       "0    10001          77512.0      16328        1389        1665         2075   \n",
       "1    10002          26905.0      60932       21170       12718         8532   \n",
       "2    10003          79088.0      41182        1499        2810         4516   \n",
       "3    10004          98020.0       2279          29          87          305   \n",
       "4    10005          99633.0       5954         133         103          454   \n",
       "\n",
       "   Bachelor  Master  Doctorate  ProfSchool  \n",
       "0      6061    3412        519        1207  \n",
       "1     12721    4001        641        1149  \n",
       "2     17958    9094       1626        3679  \n",
       "3       984     550         86         238  \n",
       "4      2745    1637        219         663  "
      ]
     },
     "execution_count": 3,
     "metadata": {},
     "output_type": "execute_result"
    }
   ],
   "source": [
    "data4 = pd.read_csv('data/IncomeEduReg.csv')\n",
    "data4.head()"
   ]
  },
  {
   "cell_type": "markdown",
   "metadata": {
    "nbpresent": {
     "id": "15e02d22-78d7-4b6e-a382-0f6938e9aa6a"
    }
   },
   "source": [
    "We will be looking to model the total income of the zip code as\n",
    "$$\n",
    "TotalIncome=\\sum_i w_i Population_i\n",
    "$$\n",
    "where $Population_i$ is the number of people with certain education and the weight coefficient $w_i$ could be interpreted as the average income per capita within this population group. "
   ]
  },
  {
   "cell_type": "code",
   "execution_count": 4,
   "metadata": {},
   "outputs": [],
   "source": [
    "data4.dropna(inplace = True)  #drop NAN to avoid invalid computation"
   ]
  },
  {
   "cell_type": "code",
   "execution_count": 6,
   "metadata": {},
   "outputs": [],
   "source": [
    "data4['Income']=data4['IncomePerCapita']*data4['PopOver25'] #calculate total income"
   ]
  },
  {
   "cell_type": "code",
   "execution_count": 21,
   "metadata": {},
   "outputs": [
    {
     "name": "stdout",
     "output_type": "stream",
     "text": [
      "                            OLS Regression Results                            \n",
      "==============================================================================\n",
      "Dep. Variable:                 Income   R-squared:                       0.658\n",
      "Model:                            OLS   Adj. R-squared:                  0.657\n",
      "Method:                 Least Squares   F-statistic:                     347.0\n",
      "Date:                Wed, 02 Oct 2019   Prob (F-statistic):           7.54e-44\n",
      "Time:                        16:32:21   Log-Likelihood:                -3976.7\n",
      "No. Observations:                 181   AIC:                             7955.\n",
      "Df Residuals:                     180   BIC:                             7959.\n",
      "Df Model:                           1                                         \n",
      "Covariance Type:            nonrobust                                         \n",
      "==============================================================================\n",
      "                 coef    std err          t      P>|t|      [0.025      0.975]\n",
      "------------------------------------------------------------------------------\n",
      "PopOver25   3.217e+04   1726.829     18.627      0.000    2.88e+04    3.56e+04\n",
      "==============================================================================\n",
      "Omnibus:                       89.966   Durbin-Watson:                   0.835\n",
      "Prob(Omnibus):                  0.000   Jarque-Bera (JB):              297.952\n",
      "Skew:                           2.091   Prob(JB):                     2.00e-65\n",
      "Kurtosis:                       7.692   Cond. No.                         1.00\n",
      "==============================================================================\n",
      "\n",
      "Warnings:\n",
      "[1] Standard Errors assume that the covariance matrix of the errors is correctly specified.\n"
     ]
    }
   ],
   "source": [
    "#first run a regression again total topulation to define the overall average income per capita\n",
    "lm2 = smf.ols(formula = 'Income ~ PopOver25-1', data = data4).fit()\n",
    "print(lm2.summary())"
   ]
  },
  {
   "cell_type": "markdown",
   "metadata": {},
   "source": [
    "And now run the regression for all the education categories"
   ]
  },
  {
   "cell_type": "code",
   "execution_count": 22,
   "metadata": {},
   "outputs": [
    {
     "data": {
      "text/plain": [
       "'LessThanHS + HighSchool + SomeCollege + Bachelor + Master + Doctorate + ProfSchool'"
      ]
     },
     "execution_count": 22,
     "metadata": {},
     "output_type": "execute_result"
    }
   ],
   "source": [
    "#use this operator to generate the regression formulae\n",
    "' + '.join(data4.columns[3:10])"
   ]
  },
  {
   "cell_type": "code",
   "execution_count": 23,
   "metadata": {},
   "outputs": [
    {
     "name": "stdout",
     "output_type": "stream",
     "text": [
      "                            OLS Regression Results                            \n",
      "==============================================================================\n",
      "Dep. Variable:                 Income   R-squared:                       0.971\n",
      "Model:                            OLS   Adj. R-squared:                  0.970\n",
      "Method:                 Least Squares   F-statistic:                     840.7\n",
      "Date:                Wed, 02 Oct 2019   Prob (F-statistic):          1.50e-130\n",
      "Time:                        16:34:43   Log-Likelihood:                -3752.6\n",
      "No. Observations:                 181   AIC:                             7519.\n",
      "Df Residuals:                     174   BIC:                             7542.\n",
      "Df Model:                           7                                         \n",
      "Covariance Type:            nonrobust                                         \n",
      "===============================================================================\n",
      "                  coef    std err          t      P>|t|      [0.025      0.975]\n",
      "-------------------------------------------------------------------------------\n",
      "LessThanHS  -9811.5391   5433.915     -1.806      0.073   -2.05e+04     913.333\n",
      "HighSchool   1.893e+04   1.04e+04      1.826      0.070   -1531.122    3.94e+04\n",
      "SomeCollege  1.817e+04   1.33e+04      1.366      0.174   -8074.639    4.44e+04\n",
      "Bachelor     5.277e+04   1.35e+04      3.916      0.000    2.62e+04    7.94e+04\n",
      "Master      -3.699e+04   3.31e+04     -1.119      0.265   -1.02e+05    2.83e+04\n",
      "Doctorate   -3.932e+04   9.14e+04     -0.430      0.667    -2.2e+05    1.41e+05\n",
      "ProfSchool   6.852e+05   4.71e+04     14.536      0.000    5.92e+05    7.78e+05\n",
      "==============================================================================\n",
      "Omnibus:                       41.205   Durbin-Watson:                   1.847\n",
      "Prob(Omnibus):                  0.000   Jarque-Bera (JB):              303.199\n",
      "Skew:                           0.543   Prob(JB):                     1.45e-66\n",
      "Kurtosis:                       9.247   Cond. No.                         82.7\n",
      "==============================================================================\n",
      "\n",
      "Warnings:\n",
      "[1] Standard Errors assume that the covariance matrix of the errors is correctly specified.\n"
     ]
    }
   ],
   "source": [
    "lm2 = smf.ols(formula = 'Income ~ ' + ' + '.join(data4.columns[3:10])+'-1', data = data4).fit()\n",
    "print(lm2.summary())"
   ]
  },
  {
   "cell_type": "markdown",
   "metadata": {},
   "source": [
    "Only two regressors seem significant according to p-value. This is likely because of the strong internal correlations between the regressors, especially among Bachelor,Master,Doctor and Prof.School"
   ]
  },
  {
   "cell_type": "code",
   "execution_count": 24,
   "metadata": {},
   "outputs": [
    {
     "data": {
      "text/html": [
       "<div>\n",
       "<style scoped>\n",
       "    .dataframe tbody tr th:only-of-type {\n",
       "        vertical-align: middle;\n",
       "    }\n",
       "\n",
       "    .dataframe tbody tr th {\n",
       "        vertical-align: top;\n",
       "    }\n",
       "\n",
       "    .dataframe thead th {\n",
       "        text-align: right;\n",
       "    }\n",
       "</style>\n",
       "<table border=\"1\" class=\"dataframe\">\n",
       "  <thead>\n",
       "    <tr style=\"text-align: right;\">\n",
       "      <th></th>\n",
       "      <th>Zipcode</th>\n",
       "      <th>IncomePerCapita</th>\n",
       "      <th>PopOver25</th>\n",
       "      <th>LessThanHS</th>\n",
       "      <th>HighSchool</th>\n",
       "      <th>SomeCollege</th>\n",
       "      <th>Bachelor</th>\n",
       "      <th>Master</th>\n",
       "      <th>Doctorate</th>\n",
       "      <th>ProfSchool</th>\n",
       "      <th>Income</th>\n",
       "    </tr>\n",
       "  </thead>\n",
       "  <tbody>\n",
       "    <tr>\n",
       "      <th>Zipcode</th>\n",
       "      <td>1.000000</td>\n",
       "      <td>-0.490675</td>\n",
       "      <td>0.089223</td>\n",
       "      <td>0.138386</td>\n",
       "      <td>0.298570</td>\n",
       "      <td>0.233799</td>\n",
       "      <td>-0.136994</td>\n",
       "      <td>-0.224106</td>\n",
       "      <td>-0.361479</td>\n",
       "      <td>-0.340607</td>\n",
       "      <td>-0.326244</td>\n",
       "    </tr>\n",
       "    <tr>\n",
       "      <th>IncomePerCapita</th>\n",
       "      <td>-0.490675</td>\n",
       "      <td>1.000000</td>\n",
       "      <td>-0.286507</td>\n",
       "      <td>-0.530034</td>\n",
       "      <td>-0.559255</td>\n",
       "      <td>-0.500068</td>\n",
       "      <td>0.262061</td>\n",
       "      <td>0.385013</td>\n",
       "      <td>0.447516</td>\n",
       "      <td>0.571962</td>\n",
       "      <td>0.542535</td>\n",
       "    </tr>\n",
       "    <tr>\n",
       "      <th>PopOver25</th>\n",
       "      <td>0.089223</td>\n",
       "      <td>-0.286507</td>\n",
       "      <td>1.000000</td>\n",
       "      <td>0.747408</td>\n",
       "      <td>0.833786</td>\n",
       "      <td>0.876240</td>\n",
       "      <td>0.691929</td>\n",
       "      <td>0.516295</td>\n",
       "      <td>0.350869</td>\n",
       "      <td>0.313306</td>\n",
       "      <td>0.470183</td>\n",
       "    </tr>\n",
       "    <tr>\n",
       "      <th>LessThanHS</th>\n",
       "      <td>0.138386</td>\n",
       "      <td>-0.530034</td>\n",
       "      <td>0.747408</td>\n",
       "      <td>1.000000</td>\n",
       "      <td>0.779932</td>\n",
       "      <td>0.693017</td>\n",
       "      <td>0.146826</td>\n",
       "      <td>-0.056804</td>\n",
       "      <td>-0.116706</td>\n",
       "      <td>-0.189604</td>\n",
       "      <td>-0.061991</td>\n",
       "    </tr>\n",
       "    <tr>\n",
       "      <th>HighSchool</th>\n",
       "      <td>0.298570</td>\n",
       "      <td>-0.559255</td>\n",
       "      <td>0.833786</td>\n",
       "      <td>0.779932</td>\n",
       "      <td>1.000000</td>\n",
       "      <td>0.918826</td>\n",
       "      <td>0.244020</td>\n",
       "      <td>0.028185</td>\n",
       "      <td>-0.135187</td>\n",
       "      <td>-0.187038</td>\n",
       "      <td>0.005785</td>\n",
       "    </tr>\n",
       "    <tr>\n",
       "      <th>SomeCollege</th>\n",
       "      <td>0.233799</td>\n",
       "      <td>-0.500068</td>\n",
       "      <td>0.876240</td>\n",
       "      <td>0.693017</td>\n",
       "      <td>0.918826</td>\n",
       "      <td>1.000000</td>\n",
       "      <td>0.389975</td>\n",
       "      <td>0.200074</td>\n",
       "      <td>0.014369</td>\n",
       "      <td>-0.042483</td>\n",
       "      <td>0.146218</td>\n",
       "    </tr>\n",
       "    <tr>\n",
       "      <th>Bachelor</th>\n",
       "      <td>-0.136994</td>\n",
       "      <td>0.262061</td>\n",
       "      <td>0.691929</td>\n",
       "      <td>0.146826</td>\n",
       "      <td>0.244020</td>\n",
       "      <td>0.389975</td>\n",
       "      <td>1.000000</td>\n",
       "      <td>0.919023</td>\n",
       "      <td>0.769090</td>\n",
       "      <td>0.810396</td>\n",
       "      <td>0.873868</td>\n",
       "    </tr>\n",
       "    <tr>\n",
       "      <th>Master</th>\n",
       "      <td>-0.224106</td>\n",
       "      <td>0.385013</td>\n",
       "      <td>0.516295</td>\n",
       "      <td>-0.056804</td>\n",
       "      <td>0.028185</td>\n",
       "      <td>0.200074</td>\n",
       "      <td>0.919023</td>\n",
       "      <td>1.000000</td>\n",
       "      <td>0.904758</td>\n",
       "      <td>0.913308</td>\n",
       "      <td>0.912174</td>\n",
       "    </tr>\n",
       "    <tr>\n",
       "      <th>Doctorate</th>\n",
       "      <td>-0.361479</td>\n",
       "      <td>0.447516</td>\n",
       "      <td>0.350869</td>\n",
       "      <td>-0.116706</td>\n",
       "      <td>-0.135187</td>\n",
       "      <td>0.014369</td>\n",
       "      <td>0.769090</td>\n",
       "      <td>0.904758</td>\n",
       "      <td>1.000000</td>\n",
       "      <td>0.889662</td>\n",
       "      <td>0.839830</td>\n",
       "    </tr>\n",
       "    <tr>\n",
       "      <th>ProfSchool</th>\n",
       "      <td>-0.340607</td>\n",
       "      <td>0.571962</td>\n",
       "      <td>0.313306</td>\n",
       "      <td>-0.189604</td>\n",
       "      <td>-0.187038</td>\n",
       "      <td>-0.042483</td>\n",
       "      <td>0.810396</td>\n",
       "      <td>0.913308</td>\n",
       "      <td>0.889662</td>\n",
       "      <td>1.000000</td>\n",
       "      <td>0.943770</td>\n",
       "    </tr>\n",
       "    <tr>\n",
       "      <th>Income</th>\n",
       "      <td>-0.326244</td>\n",
       "      <td>0.542535</td>\n",
       "      <td>0.470183</td>\n",
       "      <td>-0.061991</td>\n",
       "      <td>0.005785</td>\n",
       "      <td>0.146218</td>\n",
       "      <td>0.873868</td>\n",
       "      <td>0.912174</td>\n",
       "      <td>0.839830</td>\n",
       "      <td>0.943770</td>\n",
       "      <td>1.000000</td>\n",
       "    </tr>\n",
       "  </tbody>\n",
       "</table>\n",
       "</div>"
      ],
      "text/plain": [
       "                  Zipcode  IncomePerCapita  PopOver25  LessThanHS  HighSchool  \\\n",
       "Zipcode          1.000000        -0.490675   0.089223    0.138386    0.298570   \n",
       "IncomePerCapita -0.490675         1.000000  -0.286507   -0.530034   -0.559255   \n",
       "PopOver25        0.089223        -0.286507   1.000000    0.747408    0.833786   \n",
       "LessThanHS       0.138386        -0.530034   0.747408    1.000000    0.779932   \n",
       "HighSchool       0.298570        -0.559255   0.833786    0.779932    1.000000   \n",
       "SomeCollege      0.233799        -0.500068   0.876240    0.693017    0.918826   \n",
       "Bachelor        -0.136994         0.262061   0.691929    0.146826    0.244020   \n",
       "Master          -0.224106         0.385013   0.516295   -0.056804    0.028185   \n",
       "Doctorate       -0.361479         0.447516   0.350869   -0.116706   -0.135187   \n",
       "ProfSchool      -0.340607         0.571962   0.313306   -0.189604   -0.187038   \n",
       "Income          -0.326244         0.542535   0.470183   -0.061991    0.005785   \n",
       "\n",
       "                 SomeCollege  Bachelor    Master  Doctorate  ProfSchool  \\\n",
       "Zipcode             0.233799 -0.136994 -0.224106  -0.361479   -0.340607   \n",
       "IncomePerCapita    -0.500068  0.262061  0.385013   0.447516    0.571962   \n",
       "PopOver25           0.876240  0.691929  0.516295   0.350869    0.313306   \n",
       "LessThanHS          0.693017  0.146826 -0.056804  -0.116706   -0.189604   \n",
       "HighSchool          0.918826  0.244020  0.028185  -0.135187   -0.187038   \n",
       "SomeCollege         1.000000  0.389975  0.200074   0.014369   -0.042483   \n",
       "Bachelor            0.389975  1.000000  0.919023   0.769090    0.810396   \n",
       "Master              0.200074  0.919023  1.000000   0.904758    0.913308   \n",
       "Doctorate           0.014369  0.769090  0.904758   1.000000    0.889662   \n",
       "ProfSchool         -0.042483  0.810396  0.913308   0.889662    1.000000   \n",
       "Income              0.146218  0.873868  0.912174   0.839830    0.943770   \n",
       "\n",
       "                   Income  \n",
       "Zipcode         -0.326244  \n",
       "IncomePerCapita  0.542535  \n",
       "PopOver25        0.470183  \n",
       "LessThanHS      -0.061991  \n",
       "HighSchool       0.005785  \n",
       "SomeCollege      0.146218  \n",
       "Bachelor         0.873868  \n",
       "Master           0.912174  \n",
       "Doctorate        0.839830  \n",
       "ProfSchool       0.943770  \n",
       "Income           1.000000  "
      ]
     },
     "execution_count": 24,
     "metadata": {},
     "output_type": "execute_result"
    }
   ],
   "source": [
    "data4.corr()"
   ]
  },
  {
   "cell_type": "code",
   "execution_count": 15,
   "metadata": {},
   "outputs": [
    {
     "name": "stdout",
     "output_type": "stream",
     "text": [
      "                            OLS Regression Results                            \n",
      "==============================================================================\n",
      "Dep. Variable:                 Income   R-squared:                       0.966\n",
      "Model:                            OLS   Adj. R-squared:                  0.965\n",
      "Method:                 Least Squares   F-statistic:                     2509.\n",
      "Date:                Wed, 02 Oct 2019   Prob (F-statistic):          1.16e-131\n",
      "Time:                        13:06:14   Log-Likelihood:                -3769.0\n",
      "No. Observations:                 181   AIC:                             7542.\n",
      "Df Residuals:                     179   BIC:                             7548.\n",
      "Df Model:                           2                                         \n",
      "Covariance Type:            nonrobust                                         \n",
      "==============================================================================\n",
      "                 coef    std err          t      P>|t|      [0.025      0.975]\n",
      "------------------------------------------------------------------------------\n",
      "Bachelor    8.828e+04   5074.404     17.398      0.000    7.83e+04    9.83e+04\n",
      "ProfSchool  4.925e+05    2.6e+04     18.922      0.000    4.41e+05    5.44e+05\n",
      "==============================================================================\n",
      "Omnibus:                       16.626   Durbin-Watson:                   1.798\n",
      "Prob(Omnibus):                  0.000   Jarque-Bera (JB):               55.348\n",
      "Skew:                           0.124   Prob(JB):                     9.58e-13\n",
      "Kurtosis:                       5.698   Cond. No.                         10.7\n",
      "==============================================================================\n",
      "\n",
      "Warnings:\n",
      "[1] Standard Errors assume that the covariance matrix of the errors is correctly specified.\n"
     ]
    }
   ],
   "source": [
    "#if we keep just the significant ones\n",
    "lm2 = smf.ols(formula = 'Income ~ Bachelor + ProfSchool -1', data = data4).fit()\n",
    "print(lm2.summary())"
   ]
  },
  {
   "cell_type": "code",
   "execution_count": 17,
   "metadata": {},
   "outputs": [
    {
     "name": "stdout",
     "output_type": "stream",
     "text": [
      "                            OLS Regression Results                            \n",
      "==============================================================================\n",
      "Dep. Variable:                 Income   R-squared:                       0.969\n",
      "Model:                            OLS   Adj. R-squared:                  0.968\n",
      "Method:                 Least Squares   F-statistic:                     1840.\n",
      "Date:                Wed, 02 Oct 2019   Prob (F-statistic):          1.13e-133\n",
      "Time:                        13:07:09   Log-Likelihood:                -3760.2\n",
      "No. Observations:                 181   AIC:                             7526.\n",
      "Df Residuals:                     178   BIC:                             7536.\n",
      "Df Model:                           3                                         \n",
      "Covariance Type:            nonrobust                                         \n",
      "==============================================================================\n",
      "                 coef    std err          t      P>|t|      [0.025      0.975]\n",
      "------------------------------------------------------------------------------\n",
      "Bachelor    4.232e+04   1.18e+04      3.582      0.000     1.9e+04    6.56e+04\n",
      "ProfSchool  5.848e+05   3.29e+04     17.748      0.000     5.2e+05     6.5e+05\n",
      "PopOver25   7268.9172   1704.042      4.266      0.000    3906.192    1.06e+04\n",
      "==============================================================================\n",
      "Omnibus:                       35.898   Durbin-Watson:                   1.806\n",
      "Prob(Omnibus):                  0.000   Jarque-Bera (JB):              156.805\n",
      "Skew:                           0.624   Prob(JB):                     8.92e-35\n",
      "Kurtosis:                       7.385   Cond. No.                         67.2\n",
      "==============================================================================\n",
      "\n",
      "Warnings:\n",
      "[1] Standard Errors assume that the covariance matrix of the errors is correctly specified.\n"
     ]
    }
   ],
   "source": [
    "#but then rest of the population is unattended, so include it\n",
    "lm2 = smf.ols(formula = 'Income ~ Bachelor + ProfSchool + PopOver25-1', data = data4).fit()\n",
    "print(lm2.summary())"
   ]
  },
  {
   "cell_type": "code",
   "execution_count": 31,
   "metadata": {},
   "outputs": [
    {
     "name": "stdout",
     "output_type": "stream",
     "text": [
      "                            OLS Regression Results                            \n",
      "==============================================================================\n",
      "Dep. Variable:                 Income   R-squared:                       0.928\n",
      "Model:                            OLS   Adj. R-squared:                  0.927\n",
      "Method:                 Least Squares   F-statistic:                     1146.\n",
      "Date:                Wed, 02 Oct 2019   Prob (F-statistic):          9.62e-103\n",
      "Time:                        16:42:25   Log-Likelihood:                -3836.3\n",
      "No. Observations:                 181   AIC:                             7677.\n",
      "Df Residuals:                     179   BIC:                             7683.\n",
      "Df Model:                           2                                         \n",
      "Covariance Type:            nonrobust                                         \n",
      "==============================================================================\n",
      "                 coef    std err          t      P>|t|      [0.025      0.975]\n",
      "------------------------------------------------------------------------------\n",
      "Master      3.198e+05   1.24e+04     25.782      0.000    2.95e+05    3.44e+05\n",
      "PopOver25   1778.6162   1423.124      1.250      0.213   -1029.642    4586.874\n",
      "==============================================================================\n",
      "Omnibus:                       42.066   Durbin-Watson:                   1.401\n",
      "Prob(Omnibus):                  0.000   Jarque-Bera (JB):              220.929\n",
      "Skew:                           0.702   Prob(JB):                     1.06e-48\n",
      "Kurtosis:                       8.227   Cond. No.                         15.7\n",
      "==============================================================================\n",
      "\n",
      "Warnings:\n",
      "[1] Standard Errors assume that the covariance matrix of the errors is correctly specified.\n"
     ]
    }
   ],
   "source": [
    "#but if we run the regressions using some of the previously \"insignificant\" features alone, we can actually get it significant for them\n",
    "lm2 = smf.ols(formula = 'Income ~ Master + PopOver25-1', data = data4).fit()\n",
    "print(lm2.summary())"
   ]
  },
  {
   "cell_type": "code",
   "execution_count": 34,
   "metadata": {},
   "outputs": [
    {
     "name": "stdout",
     "output_type": "stream",
     "text": [
      "                            OLS Regression Results                            \n",
      "==============================================================================\n",
      "Dep. Variable:                 Income   R-squared:                       0.935\n",
      "Model:                            OLS   Adj. R-squared:                  0.934\n",
      "Method:                 Least Squares   F-statistic:                     640.9\n",
      "Date:                Wed, 02 Oct 2019   Prob (F-statistic):          4.15e-104\n",
      "Time:                        16:43:06   Log-Likelihood:                -3825.9\n",
      "No. Observations:                 181   AIC:                             7660.\n",
      "Df Residuals:                     177   BIC:                             7673.\n",
      "Df Model:                           4                                         \n",
      "Covariance Type:            nonrobust                                         \n",
      "==============================================================================\n",
      "                 coef    std err          t      P>|t|      [0.025      0.975]\n",
      "------------------------------------------------------------------------------\n",
      "Bachelor    9.536e+04   2.11e+04      4.527      0.000    5.38e+04    1.37e+05\n",
      "Master      1.464e+05   4.25e+04      3.448      0.001    6.26e+04     2.3e+05\n",
      "Doctorate   2.586e+05   1.24e+05      2.093      0.038    1.48e+04    5.03e+05\n",
      "PopOver25  -4197.5749   2147.374     -1.955      0.052   -8435.326      40.176\n",
      "==============================================================================\n",
      "Omnibus:                       27.904   Durbin-Watson:                   1.492\n",
      "Prob(Omnibus):                  0.000   Jarque-Bera (JB):               94.574\n",
      "Skew:                           0.521   Prob(JB):                     2.91e-21\n",
      "Kurtosis:                       6.384   Cond. No.                         173.\n",
      "==============================================================================\n",
      "\n",
      "Warnings:\n",
      "[1] Standard Errors assume that the covariance matrix of the errors is correctly specified.\n"
     ]
    }
   ],
   "source": [
    "#but if we run the regressions using some of the previously \"insignificant\" features alone, we can actually get it signifi\n",
    "lm2 = smf.ols(formula = 'Income ~ Bachelor + Master + Doctorate + PopOver25-1', data = data4).fit()\n",
    "print(lm2.summary())"
   ]
  },
  {
   "cell_type": "code",
   "execution_count": 45,
   "metadata": {},
   "outputs": [
    {
     "name": "stdout",
     "output_type": "stream",
     "text": [
      "                            OLS Regression Results                            \n",
      "==============================================================================\n",
      "Dep. Variable:                 Income   R-squared:                       0.931\n",
      "Model:                            OLS   Adj. R-squared:                  0.930\n",
      "Method:                 Least Squares   F-statistic:                     799.9\n",
      "Date:                Wed, 02 Oct 2019   Prob (F-statistic):          5.02e-103\n",
      "Time:                        16:45:33   Log-Likelihood:                -3832.0\n",
      "No. Observations:                 181   AIC:                             7670.\n",
      "Df Residuals:                     178   BIC:                             7680.\n",
      "Df Model:                           3                                         \n",
      "Covariance Type:            nonrobust                                         \n",
      "==============================================================================\n",
      "                 coef    std err          t      P>|t|      [0.025      0.975]\n",
      "------------------------------------------------------------------------------\n",
      "LessThanHS -9.766e+04   8080.556    -12.086      0.000   -1.14e+05   -8.17e+04\n",
      "HighSchool -1.622e+05   1.02e+04    -15.928      0.000   -1.82e+05   -1.42e+05\n",
      "PopOver25   9.305e+04   2481.830     37.494      0.000    8.82e+04     9.8e+04\n",
      "==============================================================================\n",
      "Omnibus:                       38.318   Durbin-Watson:                   1.427\n",
      "Prob(Omnibus):                  0.000   Jarque-Bera (JB):               74.857\n",
      "Skew:                           1.001   Prob(JB):                     5.56e-17\n",
      "Kurtosis:                       5.432   Cond. No.                         15.2\n",
      "==============================================================================\n",
      "\n",
      "Warnings:\n",
      "[1] Standard Errors assume that the covariance matrix of the errors is correctly specified.\n"
     ]
    }
   ],
   "source": [
    "lm2 = smf.ols(formula = 'Income ~ LessThanHS + HighSchool + PopOver25-1', data = data4).fit()\n",
    "print(lm2.summary())"
   ]
  },
  {
   "cell_type": "markdown",
   "metadata": {},
   "source": [
    "## In-class excercise"
   ]
  },
  {
   "cell_type": "markdown",
   "metadata": {},
   "source": [
    "Q1. Perform regression vs Bachelor, \"Advanced\" which incorporated Master, Doctorate and ProfSchool and \"Other\" incorporating less than Bachelor"
   ]
  },
  {
   "cell_type": "markdown",
   "metadata": {},
   "source": [
    "Q2. Visualize the regression fit by plotting the observation versus our prediction for the income per zip code"
   ]
  },
  {
   "cell_type": "code",
   "execution_count": null,
   "metadata": {
    "collapsed": true
   },
   "outputs": [],
   "source": []
  }
 ],
 "metadata": {
  "anaconda-cloud": {},
  "kernelspec": {
   "display_name": "Python 3",
   "language": "python",
   "name": "python3"
  },
  "language_info": {
   "codemirror_mode": {
    "name": "ipython",
    "version": 3
   },
   "file_extension": ".py",
   "mimetype": "text/x-python",
   "name": "python",
   "nbconvert_exporter": "python",
   "pygments_lexer": "ipython3",
   "version": "3.7.1"
  }
 },
 "nbformat": 4,
 "nbformat_minor": 2
}
